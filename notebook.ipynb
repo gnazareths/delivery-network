{
 "cells": [
  {
   "cell_type": "code",
   "execution_count": 1,
   "metadata": {},
   "outputs": [],
   "source": [
    "from models.city import City\n",
    "from models.truck import Truck\n",
    "from models.parcel import Parcel\n",
    "from models.simulation import Simulation\n",
    "from helpers import *\n",
    "\n",
    "import matplotlib.pyplot as plt"
   ]
  },
  {
   "cell_type": "markdown",
   "metadata": {
    "collapsed": true
   },
   "source": [
    "#### Simulation 1"
   ]
  },
  {
   "cell_type": "code",
   "execution_count": 2,
   "metadata": {},
   "outputs": [],
   "source": [
    "cities = generate_cities()\n",
    "next_cities = generate_next_cities(cities)\n",
    "time_table = generate_time_table()\n",
    "truck_capacity = 100\n",
    "n_trucks = 10\n",
    "timesteps = 20\n",
    "parcels_per_city = {\"Porto Alegre\": 100, \"Curitiba\": 100, \"Sao Paulo\": 100, \"Rio de Janeiro\": 100}"
   ]
  },
  {
   "cell_type": "code",
   "execution_count": 3,
   "metadata": {},
   "outputs": [
    {
     "name": "stderr",
     "output_type": "stream",
     "text": [
      "/Users/guilhermesouza/anaconda2/lib/python2.7/site-packages/numpy/core/fromnumeric.py:2909: RuntimeWarning: Mean of empty slice.\n",
      "  out=out, **kwargs)\n",
      "/Users/guilhermesouza/anaconda2/lib/python2.7/site-packages/numpy/core/_methods.py:80: RuntimeWarning: invalid value encountered in double_scalars\n",
      "  ret = ret.dtype.type(ret / rcount)\n"
     ]
    }
   ],
   "source": [
    "porto_alegre_parcels_1 = []\n",
    "porto_alegre_complete_trips_1 = []\n",
    "porto_alegre_incomplete_waiting_times_1 = []\n",
    "porto_alegre_complete_waiting_times_1 = []\n",
    "\n",
    "curitiba_parcels_1 = []\n",
    "curitiba_complete_trips_1 = []\n",
    "curitiba_incomplete_waiting_times_1 = []\n",
    "curitiba_complete_waiting_times_1 = []\n",
    "\n",
    "sao_paulo_parcels_1 = []\n",
    "sao_paulo_complete_trips_1 = []\n",
    "sao_paulo_incomplete_waiting_times_1 = []\n",
    "sao_paulo_complete_waiting_times_1 = []\n",
    "\n",
    "rio_parcels_1 = []\n",
    "rio_complete_trips_1 = []\n",
    "rio_incomplete_waiting_times_1 = []\n",
    "rio_complete_waiting_times_1 = []\n",
    "\n",
    "for i in range(2):\n",
    "        \n",
    "    sim = Simulation(cities, time_table, next_cities, truck_capacity, n_trucks, timesteps, parcels_per_city)\n",
    "    parcels, complete_trips, complete_waiting_times, incomplete_waiting_times  = sim.run()\n",
    "    \n",
    "    porto_alegre_parcels_1.append(parcels[\"Porto Alegre\"][-1])\n",
    "    porto_alegre_complete_trips_1.append(complete_trips[\"Porto Alegre\"][-1])\n",
    "    porto_alegre_incomplete_waiting_times_1.append(incomplete_waiting_times[\"Porto Alegre\"][-1])\n",
    "    porto_alegre_complete_waiting_times_1.append(complete_waiting_times[\"Porto Alegre\"][-1])\n",
    "    \n",
    "    curitiba_parcels_1.append(parcels[\"Curitiba\"][-1])\n",
    "    curitiba_complete_trips_1.append(complete_trips[\"Curitiba\"][-1])\n",
    "    curitiba_incomplete_waiting_times_1.append(incomplete_waiting_times[\"Curitiba\"][-1])\n",
    "    curitiba_complete_waiting_times_1.append(complete_waiting_times[\"Curitiba\"][-1])\n",
    "    \n",
    "    sao_paulo_parcels_1.append(parcels[\"Sao Paulo\"][-1])\n",
    "    sao_paulo_complete_trips_1.append(complete_trips[\"Sao Paulo\"][-1])\n",
    "    sao_paulo_incomplete_waiting_times_1.append(incomplete_waiting_times[\"Sao Paulo\"][-1])\n",
    "    sao_paulo_complete_waiting_times_1.append(complete_waiting_times[\"Sao Paulo\"][-1])\n",
    "    \n",
    "    rio_parcels_1.append(parcels[\"Rio de Janeiro\"][-1])\n",
    "    rio_complete_trips_1.append(complete_trips[\"Rio de Janeiro\"][-1])\n",
    "    rio_incomplete_waiting_times_1.append(incomplete_waiting_times[\"Rio de Janeiro\"][-1])\n",
    "    rio_complete_waiting_times_1.append(complete_waiting_times[\"Rio de Janeiro\"][-1])"
   ]
  },
  {
   "cell_type": "code",
   "execution_count": 6,
   "metadata": {},
   "outputs": [
    {
     "data": {
      "text/plain": [
       "[85, 79]"
      ]
     },
     "execution_count": 6,
     "metadata": {},
     "output_type": "execute_result"
    }
   ],
   "source": [
    "curitiba_complete_trips_1"
   ]
  },
  {
   "cell_type": "code",
   "execution_count": null,
   "metadata": {
    "collapsed": true
   },
   "outputs": [],
   "source": []
  }
 ],
 "metadata": {
  "kernelspec": {
   "display_name": "Python 2",
   "language": "python",
   "name": "python2"
  },
  "language_info": {
   "codemirror_mode": {
    "name": "ipython",
    "version": 2
   },
   "file_extension": ".py",
   "mimetype": "text/x-python",
   "name": "python",
   "nbconvert_exporter": "python",
   "pygments_lexer": "ipython2",
   "version": "2.7.14"
  }
 },
 "nbformat": 4,
 "nbformat_minor": 2
}
