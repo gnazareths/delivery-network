{
 "cells": [
  {
   "cell_type": "code",
   "execution_count": 1,
   "metadata": {},
   "outputs": [],
   "source": [
    "from models.city import City\n",
    "from models.truck import Truck\n",
    "from models.parcel import Parcel\n",
    "from models.simulation import Simulation\n",
    "from helpers import *"
   ]
  },
  {
   "cell_type": "markdown",
   "metadata": {
    "collapsed": true
   },
   "source": [
    "### Set parameters"
   ]
  },
  {
   "cell_type": "code",
   "execution_count": 5,
   "metadata": {},
   "outputs": [],
   "source": [
    "cities = generate_cities()\n",
    "next_cities = generate_next_cities(cities)\n",
    "time_table = generate_time_table()\n",
    "truck_capacity = 100\n",
    "n_trucks = 10\n",
    "timesteps = 20\n",
    "parcels_per_city = {\"Porto Alegre\": 100, \"Curitiba\": 100, \"Sao Paulo\": 100, \"Rio de Janeiro\": 100}"
   ]
  },
  {
   "cell_type": "code",
   "execution_count": 6,
   "metadata": {
    "collapsed": true
   },
   "outputs": [],
   "source": [
    "sim = Simulation(cities, time_table, next_cities, truck_capacity, n_trucks, timesteps, parcels_per_city)"
   ]
  },
  {
   "cell_type": "code",
   "execution_count": 7,
   "metadata": {},
   "outputs": [
    {
     "data": {
      "text/plain": [
       "({'Curitiba': [177],\n",
       "  'Porto Alegre': [24],\n",
       "  'Rio de Janeiro': [0],\n",
       "  'Sao Paulo': [0]},\n",
       " {'Curitiba': [1989],\n",
       "  'Porto Alegre': [1876],\n",
       "  'Rio de Janeiro': [1951],\n",
       "  'Sao Paulo': [1994]},\n",
       " {'Curitiba': [1.0256410256410255],\n",
       "  'Porto Alegre': [18.71641791044776],\n",
       "  'Rio de Janeiro': [8.9677088672475662],\n",
       "  'Sao Paulo': [8.7021063189568704]},\n",
       " {'Curitiba': [26.16949152542373],\n",
       "  'Porto Alegre': [24.0],\n",
       "  'Rio de Janeiro': [nan],\n",
       "  'Sao Paulo': [nan]})"
      ]
     },
     "execution_count": 7,
     "metadata": {},
     "output_type": "execute_result"
    }
   ],
   "source": [
    "sim.run()"
   ]
  },
  {
   "cell_type": "code",
   "execution_count": null,
   "metadata": {
    "collapsed": true
   },
   "outputs": [],
   "source": []
  }
 ],
 "metadata": {
  "kernelspec": {
   "display_name": "Python 2",
   "language": "python",
   "name": "python2"
  },
  "language_info": {
   "codemirror_mode": {
    "name": "ipython",
    "version": 2
   },
   "file_extension": ".py",
   "mimetype": "text/x-python",
   "name": "python",
   "nbconvert_exporter": "python",
   "pygments_lexer": "ipython2",
   "version": "2.7.14"
  }
 },
 "nbformat": 4,
 "nbformat_minor": 2
}
